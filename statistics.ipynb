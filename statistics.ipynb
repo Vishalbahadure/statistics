{
 "cells": [
  {
   "cell_type": "markdown",
   "metadata": {},
   "source": [
    "Q1. What is Statistics?\n",
    "statistics is the science of collecting ,organizing and analyzing of data \n",
    "used in large data for decision making and prediction"
   ]
  },
  {
   "cell_type": "markdown",
   "metadata": {},
   "source": [
    "Q2. Define the different types of statistics and give an example of when each type might be used.\n",
    "two type of statistics \n",
    "1.Descriptive statistics\n",
    "it is organizing, collecting and anayzing of data\n",
    "2.Inferantial statistics\n",
    "using of sample data we form conclusion "
   ]
  },
  {
   "cell_type": "markdown",
   "metadata": {},
   "source": [
    "Q3. What are the different types of data and how do they differ from each other? Provide an example of\n",
    "each type of data.\n",
    "data are two type \n",
    "1.Quntitative data\n",
    "a.continuose\n",
    "any value \n",
    "b.discrete\n",
    "whole value\n",
    "2.Qulitative data\n",
    "a.nominal\n",
    "categorical data\n",
    "male,female,\n",
    "b.ordinal\n",
    "give the rank of data or order\n",
    "ex.good,better,bad\n",
    "   first prize ,second,third\n"
   ]
  },
  {
   "cell_type": "markdown",
   "metadata": {},
   "source": [
    "Q4. Categorise the following datasets with respect to quantitative and qualitative data types:\n",
    "(i) Grading in exam: A+, A, B+, B, C+, C, D, E\n",
    "     qualitative data\n",
    "\n",
    "(ii) Colour of mangoes: yellow, green, orange, red\n",
    "     qualitative data\n",
    "(iii) Height data of a class: [178.9, 179, 179.5, 176, 177.2, 178.3, 175.8,...]\n",
    "     quantitative data\n",
    "(iv) Number of mangoes exported by a farm: [500, 600, 478, 672, ...]\n",
    "    quantitative data"
   ]
  },
  {
   "cell_type": "markdown",
   "metadata": {},
   "source": [
    "Q5. Explain the concept of levels of measurement and give an example of a variable for each level.\n",
    "1.nominal scale data\n",
    "  categorical/ qulitative data\n",
    "  ex.gender,colors\n",
    "  order does not matter\n",
    "2.ordinal scale data\n",
    " ranking is important\n",
    " order matter\n",
    " ex. first prize, second prize, --\n",
    "3.interval scale data\n",
    "  the order matter\n",
    "  difference can be measured\n",
    "  ratio cannot be measured\n",
    "  no true 0 starting point\n",
    "4.ratio scale data\n",
    "  the order matter\n",
    "  difference are measurable including ratio\n",
    "  contain 0 stating point"
   ]
  },
  {
   "cell_type": "markdown",
   "metadata": {},
   "source": [
    "Q6. Why is it important to understand the level of measurement when analyzing data? Provide an\n",
    "example to illustrate your answer.\n",
    "Understanding the level of measurement is crucial when analyzing data because it determines which statistical methods and operations are appropriate for the given data. Using the wrong statistical techniques can lead to incorrect interpretations, misleading results, or invalid conclusions.\n",
    "Let’s say you’re analyzing a dataset that includes \"customer satisfaction\" ratings on a scale of 1 to 5 (with 1 being \"Very Dissatisfied\" and 5 being \"Very Satisfied\").\n",
    "\n",
    "Understanding the Level of Measurement: This data is on an ordinal scale, meaning the ratings indicate an order (1 < 2 < 3 < 4 < 5), but the intervals between them are not necessarily equal. The difference between \"1\" and \"2\" may not be the same as between \"4\" and \"5.\""
   ]
  },
  {
   "cell_type": "markdown",
   "metadata": {},
   "source": [
    "Q7. How nominal data type is different from ordinal data type.\n",
    "both are the categorical data type\n",
    "in nominal data rank not matter\n",
    "nominal data are categorical data\n",
    "no any mathematical operation are posssible\n",
    "ex.male,female,color\n",
    "\n",
    "in ordinal data rank are matter\n",
    "order is important in ordinal data\n",
    "ex.1 prize ,2 prize,  "
   ]
  },
  {
   "cell_type": "markdown",
   "metadata": {},
   "source": [
    "Q8. Which type of plot can be used to display data in terms of range?\n",
    "box plot can be used to display data in terms of range\n",
    "we also used histogram"
   ]
  },
  {
   "cell_type": "markdown",
   "metadata": {},
   "source": [
    "Q9. Describe the difference between descriptive and inferential statistics. Give an example of each\n",
    "type of statistics and explain how they are used.\n",
    "1.descriptive statistics\n",
    "  it is consists of collecting, organazing,analyzing and visulizing of data \n",
    "  ex.\n",
    "     we used in mathematical operation do, i collect student marks data so in this marks we do sum, highest marks, lowest,marks or avgerage marks this is is used in descriptive statistics\n",
    "2.inferential statistics\n",
    "  it is consists of using data you have measured to form conclusion\n",
    "  ex.\n",
    "     A political analyst takes a sample of 1,000 voters from a city to predict how the entire city will vote in an upcoming election. The analyst uses a confidence interval and p-value to infer the voting intentions of the entire population."
   ]
  },
  {
   "cell_type": "markdown",
   "metadata": {},
   "source": [
    "Q10. What are some common measures of central tendency and variability used in statistics? Explain\n",
    "how each measure can be used to describe a dataset.\n",
    " measures of central tendency\n",
    " 1.mean:\n",
    "   avgrage value,sum of all data value and divide with total data value\n",
    "2.median:\n",
    "    it is middle value of data  when data is arrange smaller to larger\n",
    "    used for when data contain outliers finding the outliers\n",
    "3.mode:\n",
    "     repetead, more than other value\n",
    "  \n",
    "measure of variability\n",
    "1.variance\n",
    "  Variance measures the average of the squared differences from the mean. It gives an idea of how much the data points deviate from the mean.\n",
    "\n",
    "2.Standard Deviation\n",
    " Variance measures the average of the squared differences from the mean. It gives an idea of how much the data points deviate from the mean."
   ]
  }
 ],
 "metadata": {
  "kernelspec": {
   "display_name": "Python 3",
   "language": "python",
   "name": "python3"
  },
  "language_info": {
   "name": "python",
   "version": "3.12.6"
  }
 },
 "nbformat": 4,
 "nbformat_minor": 2
}
